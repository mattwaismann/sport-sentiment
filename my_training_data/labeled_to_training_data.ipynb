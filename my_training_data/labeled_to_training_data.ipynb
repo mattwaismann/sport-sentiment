{
 "cells": [
  {
   "cell_type": "code",
   "execution_count": 1,
   "id": "upper-reviewer",
   "metadata": {},
   "outputs": [
    {
     "data": {
      "text/plain": [
       "'\\nScript used on csv files that have been labeled for training but not cleaned\\n'"
      ]
     },
     "execution_count": 1,
     "metadata": {},
     "output_type": "execute_result"
    }
   ],
   "source": [
    "\"\"\"\n",
    "Script used on csv files that have been labeled for training but not cleaned\n",
    "\"\"\""
   ]
  },
  {
   "cell_type": "code",
   "execution_count": 2,
   "id": "spare-glossary",
   "metadata": {},
   "outputs": [],
   "source": [
    "from qgrid import show_grid\n",
    "from datetime import datetime, timedelta\n",
    "import pandas as pd\n",
    "import numpy as np"
   ]
  },
  {
   "cell_type": "code",
   "execution_count": 3,
   "id": "right-australia",
   "metadata": {},
   "outputs": [],
   "source": [
    "labeled = pd.read_csv(\"liv_ars - liv_ars.csv\")\n",
    "labeled = pd.read_csv(\"liv_city - liv_city.csv\", header = None)"
   ]
  },
  {
   "cell_type": "code",
   "execution_count": 42,
   "id": "boring-freedom",
   "metadata": {},
   "outputs": [],
   "source": [
    "labeled = labeled.drop([0,1,3,4,5,6,7,8,9], axis = 1)\n",
    "labeled.columns =['text','sent','label']"
   ]
  },
  {
   "cell_type": "code",
   "execution_count": 53,
   "id": "cloudy-blackjack",
   "metadata": {},
   "outputs": [],
   "source": [
    "labeled_ind = np.where([not logical for logical in np.isnan(labeled.label)])[0]"
   ]
  },
  {
   "cell_type": "code",
   "execution_count": 57,
   "id": "minute-north",
   "metadata": {},
   "outputs": [],
   "source": [
    "train = labeled.iloc[labeled_ind,:].reset_index(drop = True)"
   ]
  },
  {
   "cell_type": "code",
   "execution_count": 58,
   "id": "settled-alignment",
   "metadata": {},
   "outputs": [],
   "source": [
    "train.to_csv(\"train_liv_man.csv\", header = True)"
   ]
  }
 ],
 "metadata": {
  "kernelspec": {
   "display_name": "Python 3",
   "language": "python",
   "name": "python3"
  },
  "language_info": {
   "codemirror_mode": {
    "name": "ipython",
    "version": 3
   },
   "file_extension": ".py",
   "mimetype": "text/x-python",
   "name": "python",
   "nbconvert_exporter": "python",
   "pygments_lexer": "ipython3",
   "version": "3.6.13"
  }
 },
 "nbformat": 4,
 "nbformat_minor": 5
}
