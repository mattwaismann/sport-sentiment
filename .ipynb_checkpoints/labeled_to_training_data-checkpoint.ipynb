{
 "cells": [
  {
   "cell_type": "code",
   "execution_count": 40,
   "id": "spare-glossary",
   "metadata": {},
   "outputs": [],
   "source": [
    "import reddit_thread_pull as rmtp\n",
    "from qgrid import show_grid\n",
    "from datetime import datetime, timedelta\n",
    "import pandas as pd\n",
    "import numpy as np"
   ]
  },
  {
   "cell_type": "code",
   "execution_count": 47,
   "id": "right-australia",
   "metadata": {},
   "outputs": [],
   "source": [
    "labeled_liv_ars = pd.read_csv(\"liv_ars - liv_ars.csv\")"
   ]
  },
  {
   "cell_type": "code",
   "execution_count": 60,
   "id": "amazing-indicator",
   "metadata": {},
   "outputs": [],
   "source": [
    "non_missing_labels_ind = np.where([not item for item in list(labeled_liv_ars.iloc[:,3].isnull())])[0]"
   ]
  },
  {
   "cell_type": "code",
   "execution_count": 89,
   "id": "electric-explorer",
   "metadata": {},
   "outputs": [],
   "source": [
    "training_df = labeled_liv_ars.iloc[non_missing_labels_ind,:]\n",
    "training_df = training_df.drop(['1445'],axis = 1)\n",
    "training_df.columns = ['date_time','text','sentiment']\n",
    "training_df = training_df.reset_index()\n",
    "training_df  = training_df.drop('index',axis = 1)\n",
    "training_df  = training_df.drop(602,axis = 0)\n",
    "training_df.to_csv(\"train.csv\")"
   ]
  },
  {
   "cell_type": "code",
   "execution_count": null,
   "id": "dangerous-wellington",
   "metadata": {},
   "outputs": [],
   "source": []
  }
 ],
 "metadata": {
  "kernelspec": {
   "display_name": "Python 3",
   "language": "python",
   "name": "python3"
  },
  "language_info": {
   "codemirror_mode": {
    "name": "ipython",
    "version": 3
   },
   "file_extension": ".py",
   "mimetype": "text/x-python",
   "name": "python",
   "nbconvert_exporter": "python",
   "pygments_lexer": "ipython3",
   "version": "3.8.8"
  }
 },
 "nbformat": 4,
 "nbformat_minor": 5
}
